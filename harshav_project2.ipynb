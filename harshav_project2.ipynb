{
  "cells": [
    {
      "cell_type": "markdown",
      "source": [
        "ENPM-673 Project 2\n",
        "~~~\n",
        "PART-1\n",
        "~~~\n",
        "\n"
      ],
      "metadata": {
        "id": "At2a42SGPv6G"
      }
    },
    {
      "cell_type": "markdown",
      "source": [
        "This section imports the needed libraries and then it setsGoogle Colab environment to access files from Google Drive and imports the cv2_imshow() function casue the cv2.inshow() does not work in these notebooks.\n",
        "\n",
        "\n",
        "\n",
        "\n"
      ],
      "metadata": {
        "id": "OA0CqiPCeotc"
      }
    },
    {
      "cell_type": "code",
      "execution_count": 1,
      "metadata": {
        "id": "_i2yLW72pu2O",
        "colab": {
          "base_uri": "https://localhost:8080/"
        },
        "outputId": "e8f9d5d4-f570-4236-c4d1-577ffe7a8a50"
      },
      "outputs": [
        {
          "output_type": "stream",
          "name": "stdout",
          "text": [
            "Mounted at /content/drive\n"
          ]
        }
      ],
      "source": [
        "#import all necessary library\n",
        "import cv2\n",
        "import numpy as np\n",
        "import matplotlib.pyplot as plt\n",
        "from scipy.ndimage import convolve\n",
        "\n",
        "#mount google drive to take the video to be processed\n",
        "from google.colab import drive\n",
        "drive.mount('/content/drive')\n",
        "#importing cv2_imshow function\n",
        "from google.colab.patches import cv2_imshow"
      ]
    },
    {
      "cell_type": "markdown",
      "source": [
        "This section locates and imports the video file into the colab and throws an error message if the video is not opened\n"
      ],
      "metadata": {
        "id": "0QbMtOnxfE5u"
      }
    },
    {
      "cell_type": "code",
      "source": [
        "\n",
        "#read the file and see if its able to open the video\n",
        "file = \"/media/proj2_v2.mp4\"\n",
        "cap = cv2.VideoCapture(file)\n",
        "if not cap.isOpened():\n",
        "    print(\"Error: Unable to open video file.\")\n",
        "    exit()\n"
      ],
      "metadata": {
        "id": "qoANUIeAqfQP"
      },
      "execution_count": null,
      "outputs": []
    },
    {
      "cell_type": "markdown",
      "source": [
        "This section of code sets the necessary variables needed"
      ],
      "metadata": {
        "id": "PJCBsKK1f2yN"
      }
    },
    {
      "cell_type": "code",
      "source": [
        "extracted_frames=[]#list for extracted frame\n",
        "unblur_frames=[]#list for gettting unblur frames\n",
        "blur_frames=[]#list for blur frame\n",
        "frame_w_line = []#list for getting the final output frame\n",
        "threshold = 110#threshold value for checking the blur frames\n",
        "blurry_frame_count = 0#appends the blur frame count"
      ],
      "metadata": {
        "id": "B82lvP_RI8AH"
      },
      "execution_count": null,
      "outputs": []
    },
    {
      "cell_type": "markdown",
      "source": [
        "This cell reads the frames in video and appends it in a list\n"
      ],
      "metadata": {
        "id": "e6FppqwVgZz5"
      }
    },
    {
      "cell_type": "code",
      "source": [
        "total_frames = int(cap.get(cv2.CAP_PROP_FRAME_COUNT)) #get the total frames in the video\n",
        "\n",
        "#read each frame and append the extracted frames\n",
        "for frame_count in range(1, total_frames + 1):\n",
        "    ret, frame = cap.read()\n",
        "\n",
        "    if not ret:\n",
        "        break\n",
        "    extracted_frames.append(frame)"
      ],
      "metadata": {
        "id": "NMlurVF7j2Ml"
      },
      "execution_count": null,
      "outputs": []
    },
    {
      "cell_type": "markdown",
      "source": [
        "This cell defines a kernel for variance of laplacian to check if the image is blur\n"
      ],
      "metadata": {
        "id": "DatYmKDIgpEa"
      }
    },
    {
      "cell_type": "code",
      "source": [
        "def variance_of_laplacian(image):\n",
        "    #to manually apply the laplacian kernel reffered for documentation\n",
        "    laplacian_kernel = np.array([[0, 1, 0], [1, -4, 1], [0, 1, 0]])#define the laplacian kernel\n",
        "    laplacian = cv2.filter2D(image, cv2.CV_64F, laplacian_kernel)#get the laplacian value\n",
        "    return laplacian.var()#return its variance to compare with threshold value\n",
        "\n"
      ],
      "metadata": {
        "id": "z6fx9YKInx9Q"
      },
      "execution_count": null,
      "outputs": []
    },
    {
      "cell_type": "markdown",
      "source": [
        "This cell checks if the frames are blur and appends blur and unblur frames\n"
      ],
      "metadata": {
        "id": "RRoPW9DGhKHp"
      }
    },
    {
      "cell_type": "code",
      "source": [
        "for fra in extracted_frames:\n",
        "  gray = cv2.cvtColor(fra, cv2.COLOR_BGR2GRAY)#convert to grayscale to process the frame\n",
        "  if variance_of_laplacian(gray) < threshold:#check if its below the threshold value\n",
        "    blurry_frame_count += 1 #get the blur frame count\n",
        "    blur_frames.append(fra)\n",
        "    # print(blurry_frame_count)\n",
        "    continue\n",
        "  else:\n",
        "    unblur_frames.append(fra)"
      ],
      "metadata": {
        "id": "ECD3mv9mH3LJ"
      },
      "execution_count": null,
      "outputs": []
    },
    {
      "cell_type": "markdown",
      "source": [
        "As given in the announcement, this cell checks and tells the percentage of frames which are unblur. Here it is 52% which is more than half of the total number of frames as mentioned\n"
      ],
      "metadata": {
        "id": "g8inS64dhazJ"
      }
    },
    {
      "cell_type": "code",
      "source": [
        "perce = len(unblur_frames)\n",
        "tage = (perce/total_frames)*100\n",
        "print(\"Percentage of unblur frame = \", tage,\"%\")"
      ],
      "metadata": {
        "colab": {
          "base_uri": "https://localhost:8080/"
        },
        "id": "DfZkACG6IO73",
        "outputId": "d40c8c62-82ae-4cc6-bf16-0ff808636d1a"
      },
      "execution_count": null,
      "outputs": [
        {
          "output_type": "stream",
          "name": "stdout",
          "text": [
            "Percentage of unblur frame =  52.07253886010362 %\n"
          ]
        }
      ]
    },
    {
      "cell_type": "markdown",
      "source": [
        "This cell is to check the shaoe of the frame since to append the frames in a video, we need the shape of the frame"
      ],
      "metadata": {
        "id": "gzNw0hgmhsDv"
      }
    },
    {
      "cell_type": "code",
      "source": [
        "s_frame = unblur_frames[20]\n",
        "w,h = s_frame.shape[:2]#get the shape of the imahge\n",
        "# print(h , w)"
      ],
      "metadata": {
        "id": "3_VecWov7wtW"
      },
      "execution_count": null,
      "outputs": []
    },
    {
      "cell_type": "markdown",
      "source": [
        "This function segment_white_regions, is designed to isolate and segment the white regions from an input image"
      ],
      "metadata": {
        "id": "3FSBFNWwiTqT"
      }
    },
    {
      "cell_type": "code",
      "source": [
        "def segment_white_regions(image):\n",
        "    #convert to grayscale if the image is in color since we need a single layer here\n",
        "    if len(image.shape) == 3:\n",
        "        gray = cv2.cvtColor(image, cv2.COLOR_BGR2GRAY)\n",
        "    else:\n",
        "        gray = image\n",
        "    #to keep only white regions we apply thresholding\n",
        "    _, thresholded = cv2.threshold(gray, 208, 255, cv2.THRESH_BINARY)\n",
        "\n",
        "    #we mask the threshold image to get the segmented image\n",
        "    segmented = cv2.bitwise_and(gray, gray, mask=thresholded)\n",
        "    return segmented"
      ],
      "metadata": {
        "id": "NvnlbbVZwPWp"
      },
      "execution_count": null,
      "outputs": []
    },
    {
      "cell_type": "markdown",
      "source": [
        "The detect_and_filter_lines function converts a grayscale image to BGR color space, then uses the Canny edge detector to identify edges within the image. and detects and returns lines in the image"
      ],
      "metadata": {
        "id": "1e-aIRSCiv4Q"
      }
    },
    {
      "cell_type": "code",
      "source": [
        "def detect_and_filter_lines(image):\n",
        "    #convert to a BGR image for colored line drawing if it's not already\n",
        "    if len(image.shape) == 2 or image.shape[2] == 1:\n",
        "        image = cv2.cvtColor(image, cv2.COLOR_GRAY2BGR)\n",
        "\n",
        "    edges = cv2.Canny(image, 50, 200, apertureSize=3)#get the edge using canny edge\n",
        "    lines = cv2.HoughLinesP(edges, 1, np.pi/180, 10, minLineLength=110, maxLineGap=10)#probabilistic Hough line transform is used to detect and return lines in the image\n",
        "    return lines"
      ],
      "metadata": {
        "id": "9BP9aaEsyomg"
      },
      "execution_count": null,
      "outputs": []
    },
    {
      "cell_type": "markdown",
      "source": [
        "This filter_short_lines function takes a list of line and minimum length as inputs and filters out short line compaing with specified minimum length. It calculates the length using the euclidean distance formula and if the length exceeds the minimum length, it's added to the list\n",
        "\n",
        "\n",
        "\n",
        "\n"
      ],
      "metadata": {
        "id": "vyEjHhNbjFRV"
      }
    },
    {
      "cell_type": "code",
      "source": [
        "def filter_short_lines(lines, min_length):\n",
        "    if lines is None:#check is there are any values\n",
        "        return []\n",
        "    filtered_lines = []#create the list\n",
        "    for line in lines:#iterate and finf the lines\n",
        "        for x1, y1, x2, y2 in line:\n",
        "            if np.sqrt((x2 - x1) ** 2 + (y2 - y1) ** 2) > min_length:\n",
        "                filtered_lines.append(line)\n",
        "    return filtered_lines#returns teh lines which are above min length"
      ],
      "metadata": {
        "id": "KcQK-I0uU3yg"
      },
      "execution_count": null,
      "outputs": []
    },
    {
      "cell_type": "markdown",
      "source": [
        "This function calculates the intersection point of two lines. It then calculates the determinant d to check if the lines are parallel (if d is 0). If the lines are not parallel, it calculates the intersection point's x and y using the formula derived from the equation. If the lines intersect, it returns the intersection point (x, y)"
      ],
      "metadata": {
        "id": "TqwEBq1Njq43"
      }
    },
    {
      "cell_type": "code",
      "source": [
        "def line_inter(line1, line2):\n",
        "    x1, y1, x2, y2 = line1[0]\n",
        "    x3, y3, x4, y4 = line2[0]\n",
        "\n",
        "    d = (x1 - x2) * (y3 - y4) - (y1 - y2) * (x3 - x4)#check if it is intersecting\n",
        "    if d:\n",
        "        x = ((x1 * y2 - y1 * x2) * (x3 - x4) - (x1 - x2) * (x3 * y4 - y3 * x4)) / d\n",
        "        y = ((x1 * y2 - y1 * x2) * (y3 - y4) - (y1 - y2) * (x3 * y4 - y3 * x4)) / d\n",
        "        return (x, y)#retuirns the intersecting point as (x,y)\n",
        "    else:\n",
        "        return None"
      ],
      "metadata": {
        "id": "f5owAOkr1Ejh"
      },
      "execution_count": null,
      "outputs": []
    },
    {
      "cell_type": "markdown",
      "source": [
        "The find_intersections identifies all the intersection points among a set of lines. It iterates through all the lines and calls the line_intersection function to find it. If an intersection exists, it is added to the intersections list and then it returns it"
      ],
      "metadata": {
        "id": "Ed5UHHfikRy4"
      }
    },
    {
      "cell_type": "code",
      "source": [
        "def find_intersections(lines):\n",
        "    inter = []# create a list to append the intersecting values\n",
        "    for i, line1 in enumerate(lines):\n",
        "        for line2 in lines[i+1:]:\n",
        "            inter = line_inter(line1, line2) #get the value dof the intersecting points\n",
        "            if inter:#if it dosent return none, append it\n",
        "                inter.append(inter)\n",
        "    return inter"
      ],
      "metadata": {
        "id": "8xw9qh9A6qNR"
      },
      "execution_count": null,
      "outputs": []
    },
    {
      "cell_type": "markdown",
      "source": [
        "The function in this cell filters intersection points to ensure they correspond to actual corners as asked in the guidelines. It first applies the Harris corner to find corners in the image and they are then dilated a littel to enhance their visibility. The function iterates through the intersection points and checks if its within the image bound. If both are true then the intersection is considered valid and appened and returned back\n",
        "\n",
        "\n",
        "\n",
        "\n"
      ],
      "metadata": {
        "id": "vEEDHkUflEJc"
      }
    },
    {
      "cell_type": "code",
      "source": [
        "def validate_intersections(intersections, gray_image):\n",
        "    corners = cv2.cornerHarris(gray_image, 2, 3, 0.04)#get the cornors using Harris methdod\n",
        "    corners = cv2.dilate(corners, None)#dilate to make it more clear\n",
        "\n",
        "    valid_intersections = []#create an enpty list to store values\n",
        "    for x, y in intersections:#iterate and check if the points found are within the region\n",
        "        if 0 <= int(y) < corners.shape[0] and 0 <= int(x) < corners.shape[1]:\n",
        "            if corners[int(y), int(x)] > 0.01 * corners.max():\n",
        "                valid_intersections.append((x, y))\n",
        "    return valid_intersections"
      ],
      "metadata": {
        "id": "9WxAsyPp673t"
      },
      "execution_count": null,
      "outputs": []
    },
    {
      "cell_type": "code",
      "source": [
        "# def verify_corners(image, corners):\n",
        "#     gray = cv2.cvtColor(image, cv2.COLOR_BGR2GRAY)\n",
        "#     corners = cv2.cornerHarris(gray, 2, 3, 0.04)\n",
        "#     return np.argwhere(corners > corners.max() * 0.01)"
      ],
      "metadata": {
        "id": "aTBShQpA7Fg6"
      },
      "execution_count": null,
      "outputs": []
    },
    {
      "cell_type": "markdown",
      "source": [
        "This cell identifies the extreme points among a given set of points which are the points with the minimum and maximum x-coordinates and the points with the minimum and maximum y-coordinates which can be said to be the extreme points. It then returns these points in a list"
      ],
      "metadata": {
        "id": "JCiutNOYmD86"
      }
    },
    {
      "cell_type": "code",
      "source": [
        "def get_extreme_points(points):\n",
        "    min_x = min(points, key=lambda point: point[0])#gets the minimum x\n",
        "    max_x = max(points, key=lambda point: point[0])#gets the maximum x\n",
        "    min_y = min(points, key=lambda point: point[1])#gets the minimum y\n",
        "    max_y = max(points, key=lambda point: point[1])#gets the maximum y\n",
        "\n",
        "    return [min_x, max_x, min_y, max_y]"
      ],
      "metadata": {
        "id": "x_io8WT5c1G7"
      },
      "execution_count": null,
      "outputs": []
    },
    {
      "cell_type": "markdown",
      "source": [
        "This code block is the main block which uses all the functions and processes a sequence of video frames to detect and get the lines and the coroners. first, it converts each frame to grayscale and segments the white region and it detects and filters lines within these regions. For frames with valid lines, it draws these lines in blue, finds their intersections, and validates these intersections using Harris corner detection. Valid intersections are considered extreme points and are marked with red circles. Finally, the processed frame is added to a list to create a video as asked\n",
        "\n",
        "\n",
        "\n",
        "\n",
        "\n"
      ],
      "metadata": {
        "id": "xyKVBvhHnIkI"
      }
    },
    {
      "cell_type": "code",
      "source": [
        "for frame in unblur_frames:\n",
        "    gray_frame = cv2.cvtColor(frame, cv2.COLOR_BGR2GRAY)#convert to gray for validation\n",
        "    white_frame = segment_white_regions(frame)#segment the white refuon from theh unblur frames\n",
        "    line_frame = detect_and_filter_lines(white_frame)#detect the lines frm the franes segmented\n",
        "    lines_filtered = filter_short_lines(line_frame, 110)#get the filtered lines to draw\n",
        "    if lines_filtered is not None:\n",
        "        for line in lines_filtered:#iteerate through the corodinates and draw some lines in color mentioned\n",
        "            for x1, y1, x2, y2 in line:\n",
        "                cv2.line(frame, (x1, y1), (x2, y2), (225, 0, 0), 3)#blue lines\n",
        "    intersections = find_intersections(lines_filtered)#find intersections of the lines\n",
        "    valid_intersections = validate_intersections(intersections, gray_frame)#validate intersections using Harris corner detection\n",
        "    if valid_intersections:  #proceed only if there are valid intersections\n",
        "        corners = get_extreme_points(valid_intersections)\n",
        "        #draw the validated intersections as circles on the frame\n",
        "        for point in valid_intersections:\n",
        "            x, y = point\n",
        "            cv2.circle(frame, (int(x), (int(y))), 5, (0, 0, 255), -1)#red circles\n",
        "\n",
        "    frame_w_line.append(frame)#append the final frames to make as a video"
      ],
      "metadata": {
        "id": "bBIzefBKy-TW"
      },
      "execution_count": null,
      "outputs": []
    },
    {
      "cell_type": "markdown",
      "source": [
        "This cell creates a video writer and appends all the frames that are processed in a mp4 format"
      ],
      "metadata": {
        "id": "jFQDK8-olsnE"
      }
    },
    {
      "cell_type": "code",
      "source": [
        "fourcc = cv2.VideoWriter_fourcc(*'MP4V')  #define the format of the video\n",
        "out = cv2.VideoWriter('/media/harshav_project3.mp4', fourcc, 10.0, (720, 960)) #crearte the video write and the name with the correct shape\n",
        "\n",
        "#write the frames to the video\n",
        "for frame in frame_w_line:\n",
        "    out.write(frame)\n",
        "#releaase after completing\n",
        "out.release()\n"
      ],
      "metadata": {
        "id": "QADfxXOx7OPA"
      },
      "execution_count": null,
      "outputs": []
    },
    {
      "cell_type": "markdown",
      "source": [
        "~~~\n",
        "PART-2.1\n",
        "\n",
        "~~~\n"
      ],
      "metadata": {
        "id": "YBDLnTRnpu9D"
      }
    },
    {
      "cell_type": "markdown",
      "source": [
        "This cell imports the necessary libraries such as cv2, numpy and matplot\n"
      ],
      "metadata": {
        "id": "b4ZCH2HOp4ci"
      }
    },
    {
      "cell_type": "code",
      "source": [
        "import cv2\n",
        "import numpy as np\n",
        "import matplotlib.pyplot as plt"
      ],
      "metadata": {
        "id": "4QDeBScP7TT7"
      },
      "execution_count": null,
      "outputs": []
    },
    {
      "cell_type": "markdown",
      "source": [
        "This code block gets the image from the drive and reads that and converts to grayscale for further processing"
      ],
      "metadata": {
        "id": "RFOXYPM9ruVy"
      }
    },
    {
      "cell_type": "code",
      "source": [
        "image_files = [\"/media/PA120272.JPG\",\"/media/PA120273.JPG\" ,\n",
        "               \"/media/PA120274.JPG\", \"/media/PA120275.JPG\"]#get all the image from the drive\n",
        "images = [cv2.imread(image) for image in image_files] #read the images and save it in images\n",
        "img_gray = [cv2.cvtColor(image, cv2.COLOR_BGR2GRAY) for image in images]#convert all the images to grayscale"
      ],
      "metadata": {
        "id": "kqjWcFA9p1yL"
      },
      "execution_count": null,
      "outputs": []
    },
    {
      "cell_type": "markdown",
      "source": [
        "The code initializes a SIFT feature extractor, it iterates over grayscale images generated before to detect keypoints and compute descriptors for each image, and stores these keypoints and descriptors in seperate lists."
      ],
      "metadata": {
        "id": "RKloMXJSrkMT"
      }
    },
    {
      "cell_type": "code",
      "source": [
        "sift = cv2.SIFT_create()#initalizse the SIFT feature extracter\n",
        "keyp = []#empty list for storing the keypoints\n",
        "descri = []#empty list to store teh drscriptors\n",
        "for img_g in img_gray:\n",
        "    kp, desc = sift.detectAndCompute(img_g, None)#get the keypoints and descriptors from the image\n",
        "    keyp.append(kp)\n",
        "    descri.append(desc)"
      ],
      "metadata": {
        "id": "nnGgGMyRq4TM"
      },
      "execution_count": null,
      "outputs": []
    },
    {
      "cell_type": "markdown",
      "source": [
        "This code block uses FLANN (Fast Library for Approximate Nearest Neighbors) based matcher to find matches between features in consecutive images using SIFT descriptors. It specifies parameters for the FLANN indexer and searcher. Then, it iteratively matches the descriptors from each image with the next one in the sequence using the k-nearest neighbors method, where k is set to 2. These matches are stored in the matches list which is then further processed\n",
        "\n",
        "\n",
        "\n",
        "\n",
        "\n",
        "\n"
      ],
      "metadata": {
        "id": "3PkHFs_yt1PL"
      }
    },
    {
      "cell_type": "code",
      "source": [
        "FLANN_INDEX_KDTREE = 1\n",
        "index_params = dict(algorithm=FLANN_INDEX_KDTREE, trees=5)  #define index parameters\n",
        "search_params = dict(checks=50) #define search parameters\n",
        "flann = cv2.FlannBasedMatcher(index_params, search_params)#initialize the FLANN based matcher\n",
        "matches = []# create an empty list to store matches between consecutive images\n",
        "for i in range(len(descri) - 1):\n",
        "    matches.append(flann.knnMatch(descri[i], descri[i + 1], k=2))#perform k-nearest neighbor where k=2\n",
        "\n"
      ],
      "metadata": {
        "id": "DldgBWWerdmV"
      },
      "execution_count": null,
      "outputs": []
    },
    {
      "cell_type": "markdown",
      "source": [
        "This code block retains only the \"good\" matches based on a ratio test. For each pair of matches (m, n), if the distance of the first match m is less than 0.7 times the distance of the second match n, it indicates that m is a reliable match and is added to the good list. This process is repeated and the resulting good matches for each image pair stored in the good_matches list. This eliminates false matches and improves the accuracy of feature matching."
      ],
      "metadata": {
        "id": "k7ADC1TkvDSB"
      }
    },
    {
      "cell_type": "code",
      "source": [
        "good_matches = []#create empty list to store list of good matches\n",
        "for match in matches:\n",
        "    good = []#initialize an empty list to store good matches\n",
        "    for m, n in match:\n",
        "        if m.distance < 0.7 * n.distance:#apply the ratio test\n",
        "            good.append(m)  #add the good match to the list\n",
        "    good_matches.append(good)#append the list of good matches\n"
      ],
      "metadata": {
        "id": "Es0MyLtdsgKj"
      },
      "execution_count": null,
      "outputs": []
    },
    {
      "cell_type": "markdown",
      "source": [
        "This part of the code computes the homography matrices between pairs of consecutive images using the good matches identified earlier. For each pair of images, it extracts the source (src_pts) and destination (dst_pts) points from the keypoints associated with the good matches. And cv2.findHomography function is used to find the homographic martrix, employing the RANSAC algorithm to estimate the transformation. The computed matrices are stored in the homographies list."
      ],
      "metadata": {
        "id": "UjHQOw6LvoIb"
      }
    },
    {
      "cell_type": "code",
      "source": [
        "homograph = []#create an empty list to store homography matrices\n",
        "for i, match in enumerate(good_matches):\n",
        "    src_pts = np.float32([keyp[i][m.queryIdx].pt for m in match]).reshape(-1,1,2)#extract source points\n",
        "    dst_pts = np.float32([keyp[i+1][m.trainIdx].pt for m in match]).reshape(-1,1,2)#extract destination points\n",
        "    M, mask = cv2.findHomography(src_pts, dst_pts, cv2.RANSAC, 5.0)#compute the homography matrix\n",
        "    homograph.append(M)#append the homography matrix\n"
      ],
      "metadata": {
        "id": "UTjzxLi6sgxF"
      },
      "execution_count": null,
      "outputs": []
    },
    {
      "cell_type": "markdown",
      "source": [
        "\n",
        "This secion below stitches the images together using the previously computed homography matrices. It initializes the output_image with the first image and iteratively warps each subsequent image to align with the previous one. The cv2.warpPerspective function applies the corresponding homography matrix to transform the output_image to the perspective of the next image, effectively expanding the output_image to accommodate the new image. Then, it places the next image onto the transformed output_image. The result is a progressively stitched panorama or a composite image where each subsequent image is aligned and overlaid with the previous ones. I tried to creart a correct panaroma as you said to optimize further, but I had another submission today and had to go to court so could'nt work on it"
      ],
      "metadata": {
        "id": "bhLbWX2Twoqk"
      }
    },
    {
      "cell_type": "code",
      "source": [
        "#initialize the first image as the base\n",
        "output_image = images[0]\n",
        "#loop through the remaining images to stitch them together\n",
        "for i in range(1, len(images)):\n",
        "    h, w, _ = output_image.shape#get the current height and width of this imahge\n",
        "    output_image = cv2.warpPerspective(output_image, homograph[i-1], (w*2, h))#apply the homography transformation\n",
        "    output_image[0:images[i].shape[0], 0:images[i].shape[1]] = images[i]#overlay the next image onto the transformed output image\n"
      ],
      "metadata": {
        "id": "qjN4KWTrsmDE"
      },
      "execution_count": null,
      "outputs": []
    },
    {
      "cell_type": "markdown",
      "source": [
        "The below code crops the black areas, which typically represent unused or invalid regions and converts the output_image to grayscale and then applies a binary threshold to create a mask (thresh) where non-black areas are set to white and black areas to black. By finding the external contours in this binary mask, the code identifies the boundaries of the non-black regions, which can be used to define the cropping rectangle for removing the surrounding black areas."
      ],
      "metadata": {
        "id": "YMfQJ6Pcxd15"
      }
    },
    {
      "cell_type": "code",
      "source": [
        "gray_output = cv2.cvtColor(output_image, cv2.COLOR_BGR2GRAY)#convert the stitched image to grayscale\n",
        "_, thresh = cv2.threshold(gray_output, 1, 255, cv2.THRESH_BINARY)#apply mask such that non-black areas are white and black areas are black\n",
        "contours, _ = cv2.findContours(thresh, cv2.RETR_EXTERNAL, cv2.CHAIN_APPROX_SIMPLE)#find the external contours to identify the non-black regions"
      ],
      "metadata": {
        "id": "KxMoOcV_sqNB"
      },
      "execution_count": null,
      "outputs": []
    },
    {
      "cell_type": "markdown",
      "source": [
        "\n",
        "This block iterates through the contours and calculates the bounding rectangle using cv2.boundingRect and computes its area by multiplying width and height . If the area of the current rectangle is larger than the previously recorded maximum area (max_area), the code then updates max_area and best_rect with the new values. After completing the iteration, best_rect holds the coordinates and size of the largest bounding rectangle"
      ],
      "metadata": {
        "id": "Ds3pBkLzxzL9"
      }
    },
    {
      "cell_type": "code",
      "source": [
        "#initialize variable\n",
        "max_area = 0#large area variable\n",
        "best_rect = (0, 0, 0, 0)#best rectangel vairable\n",
        "\n",
        "\n",
        "for cnt in contours:#iterate through each contour\n",
        "    x, y, w, h = cv2.boundingRect(cnt)#calculate the bounding rectangle\n",
        "    #check if the area of this rectangle is greater than the maximum area found so far\n",
        "    if w * h > max_area:\n",
        "        max_area = w * h  #if so update the maximum area\n",
        "        best_rect = (x, y, w, h)  #also update the best rectangle\n"
      ],
      "metadata": {
        "id": "a8l-c7rgsr8-"
      },
      "execution_count": null,
      "outputs": []
    },
    {
      "cell_type": "markdown",
      "source": [
        "This code uses the coordinates and dimensions of the largest bounding rectangle found in the previous step which has the variables x, y, w, and h which all define the top-left corner and size of the rectangle. The output_image is then cropped to these dimensions, resulting in the panorama without the unnecessary black margins surrounding it"
      ],
      "metadata": {
        "id": "jvBmAwjYyQGO"
      }
    },
    {
      "cell_type": "code",
      "source": [
        "x, y, w, h = best_rect#extract the x, y and width, height\n",
        "panorama = output_image[y:y+h, x:x+w]#crop the output image to get final panorama\n",
        "\n"
      ],
      "metadata": {
        "id": "1QMKd8WQsthd"
      },
      "execution_count": null,
      "outputs": []
    },
    {
      "cell_type": "markdown",
      "source": [
        "This section of code block converts the image to color from grayscale and displays the image using matplot"
      ],
      "metadata": {
        "id": "bPTNGSeptiHt"
      }
    },
    {
      "cell_type": "code",
      "source": [
        "plt.imshow(cv2.cvtColor(panorama, cv2.COLOR_BGR2RGB))#convert bgr to rgb\n",
        "plt.show()#display the panaroma\n"
      ],
      "metadata": {
        "colab": {
          "base_uri": "https://localhost:8080/",
          "height": 159
        },
        "id": "5CHfoVJwsu9p",
        "outputId": "8dd92cda-8f70-4e9a-d749-404a3f12e4cf"
      },
      "execution_count": null,
      "outputs": [
        {
          "output_type": "display_data",
          "data": {
            "text/plain": [
              "<Figure size 640x480 with 1 Axes>"
            ],
            "image/png": "[encoded data removed]"
          },
          "metadata": {}
        }
      ]
    },
    {
      "cell_type": "markdown",
      "source": [
        "~~~\n",
        "PART-2.2\n",
        "~~~~"
      ],
      "metadata": {
        "id": "jUYkeIPB3mt8"
      }
    },
    {
      "cell_type": "markdown",
      "source": [
        "By limiting rotation to the center of the camera, panoramic mosaicing minimizes parallax error, which results from the apparent movement of objects when viewed from different vantage points. Each image is captured from the same viewpoint as the camera rotates around its center, preserving the relative positions of objects within the scene. A panorama can only be created accurately if images are stitched together consistently. It is easier to calculate the transformations needed to stitch consecutive images together smoothly when there is little or no parallax between the overlapping regions of the images. In the event that the camera translates (moves sideways, up, down, forward and backward) during capture, the resulting parallax can result in misalignments that can be difficult to correct during stitching, leading to visible seams, distortions, or ghosting effects. In order to minimize these issues and achieve a high-quality panoramic mosaic, rotation of the camera around its center is preferred."
      ],
      "metadata": {
        "id": "yUMubhMV8MO4"
      }
    },
    {
      "cell_type": "code",
      "source": [],
      "metadata": {
        "id": "Lt4m52Vosxae"
      },
      "execution_count": null,
      "outputs": []
    }
  ],
  "metadata": {
    "colab": {
      "provenance": []
    },
    "kernelspec": {
      "display_name": "Python 3",
      "name": "python3"
    },
    "language_info": {
      "name": "python"
    }
  },
  "nbformat": 4,
  "nbformat_minor": 0
}